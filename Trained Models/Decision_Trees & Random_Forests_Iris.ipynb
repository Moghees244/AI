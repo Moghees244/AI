{
  "nbformat": 4,
  "nbformat_minor": 0,
  "metadata": {
    "colab": {
      "provenance": []
    },
    "kernelspec": {
      "name": "python3",
      "display_name": "Python 3"
    },
    "language_info": {
      "name": "python"
    }
  },
  "cells": [
    {
      "cell_type": "code",
      "execution_count": 33,
      "metadata": {
        "id": "bQXEHshg8o6D"
      },
      "outputs": [],
      "source": [
        "import pandas as pd\n",
        "import numpy as np\n",
        "from sklearn.tree import DecisionTreeClassifier\n",
        "from sklearn.ensemble import RandomForestClassifier\n",
        "from sklearn.metrics import accuracy_score\n",
        "from sklearn.model_selection import train_test_split"
      ]
    },
    {
      "cell_type": "markdown",
      "source": [
        "**Reading Data**"
      ],
      "metadata": {
        "id": "N02m7aTLDSA_"
      }
    },
    {
      "cell_type": "code",
      "source": [
        "# Reading dataset\n",
        "dataset = pd.read_csv(\"/content/Iris.csv\", header = None)\n",
        "# dropping id column and separating labels\n",
        "X = dataset.iloc[1:,1:-1]\n",
        "y = dataset.iloc[1:,-1]\n",
        "\n",
        "# splitting dataset into test and train set\n",
        "X_train, X_test, y_train, y_test = train_test_split(X, y, random_state = 42, test_size=0.3)\n",
        "\n",
        "# shapes of data\n",
        "print(\"X_train Shape : \" + str(X_train.shape))\n",
        "print(\"Y_train Shape : \" + str(y_train.shape))\n",
        "\n",
        "print(\"X_test Shape : \" + str(X_test.shape))\n",
        "print(\"Y_test Shape : \" + str(y_test.shape))"
      ],
      "metadata": {
        "colab": {
          "base_uri": "https://localhost:8080/"
        },
        "id": "FOsXs-d4-GDU",
        "outputId": "d48454bf-4536-4d7a-dc35-ec1ca76ea648"
      },
      "execution_count": 55,
      "outputs": [
        {
          "output_type": "stream",
          "name": "stdout",
          "text": [
            "X_train Shape : (105, 4)\n",
            "Y_train Shape : (105,)\n",
            "X_test Shape : (45, 4)\n",
            "Y_test Shape : (45,)\n"
          ]
        }
      ]
    },
    {
      "cell_type": "markdown",
      "source": [
        "**Decision Trees**"
      ],
      "metadata": {
        "id": "C45OL2cTDmIy"
      }
    },
    {
      "cell_type": "code",
      "source": [
        "DecisionTree = DecisionTreeClassifier()\n",
        "DecisionTree.fit(X_train, y_train)\n",
        "\n",
        "print(\"Decision Tree's Accuracy on Training Set : \", DecisionTree.score(X_train, y_train) * 100)"
      ],
      "metadata": {
        "colab": {
          "base_uri": "https://localhost:8080/"
        },
        "id": "3oRTcKGz--ig",
        "outputId": "3920abcb-1ef3-46bd-e07e-1e3c588591b2"
      },
      "execution_count": 56,
      "outputs": [
        {
          "output_type": "stream",
          "name": "stdout",
          "text": [
            "Decision Tree's Accuracy on Training Set :  100.0\n"
          ]
        }
      ]
    },
    {
      "cell_type": "code",
      "source": [
        "# Predicting classes\n",
        "y_pred = DecisionTree.predict(X_test)\n",
        "# Accuracy\n",
        "accuracy = accuracy_score(y_test,y_pred)\n",
        "print(\"Decision Tree's Accuracy on Test Set : \", accuracy * 100)"
      ],
      "metadata": {
        "colab": {
          "base_uri": "https://localhost:8080/"
        },
        "id": "TZP0_ZMH_CkX",
        "outputId": "707a24a8-fc7d-4f8b-f281-f699152fbc48"
      },
      "execution_count": 57,
      "outputs": [
        {
          "output_type": "stream",
          "name": "stdout",
          "text": [
            "Decision Tree's Accuracy on Test Set :  100.0\n"
          ]
        }
      ]
    },
    {
      "cell_type": "markdown",
      "source": [
        "**Random Forests**"
      ],
      "metadata": {
        "id": "PqT2Lm1mDqFt"
      }
    },
    {
      "cell_type": "code",
      "source": [
        "RandomForest = RandomForestClassifier()\n",
        "RandomForest.fit(X_train, y_train)\n",
        "\n",
        "print(\"Random Forest's Accuracy on Training Set : \", RandomForest.score(X_train, y_train) * 100)"
      ],
      "metadata": {
        "colab": {
          "base_uri": "https://localhost:8080/"
        },
        "id": "yIeAB_53_gu1",
        "outputId": "20c7ac36-9bab-435d-931f-f5ec12fd83f7"
      },
      "execution_count": 58,
      "outputs": [
        {
          "output_type": "stream",
          "name": "stdout",
          "text": [
            "Random Forest's Accuracy on Training Set :  100.0\n"
          ]
        }
      ]
    },
    {
      "cell_type": "code",
      "source": [
        "# Predicting classes\n",
        "y_pred = RandomForest.predict(X_test)\n",
        "# Accuracy\n",
        "accuracy = accuracy_score(y_test,y_pred)\n",
        "print(\"Random Forest's Accuracy on Test Set : \", accuracy * 100)"
      ],
      "metadata": {
        "colab": {
          "base_uri": "https://localhost:8080/"
        },
        "id": "mS_VMQMp_9UD",
        "outputId": "36086d39-70da-48f2-d18c-fa3a12e3695d"
      },
      "execution_count": 59,
      "outputs": [
        {
          "output_type": "stream",
          "name": "stdout",
          "text": [
            "Random Forest's Accuracy on Test Set :  100.0\n"
          ]
        }
      ]
    }
  ]
}