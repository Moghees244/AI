{
  "nbformat": 4,
  "nbformat_minor": 0,
  "metadata": {
    "colab": {
      "provenance": []
    },
    "kernelspec": {
      "name": "python3",
      "display_name": "Python 3"
    },
    "language_info": {
      "name": "python"
    }
  },
  "cells": [
    {
      "cell_type": "code",
      "execution_count": 1,
      "metadata": {
        "colab": {
          "base_uri": "https://localhost:8080/"
        },
        "id": "f0bZpUOLD8Kr",
        "outputId": "2b4b6161-f951-455c-97ee-ec7babe4b711"
      },
      "outputs": [
        {
          "output_type": "stream",
          "name": "stdout",
          "text": [
            "Collecting idx2numpy\n",
            "  Downloading idx2numpy-1.2.3.tar.gz (6.8 kB)\n",
            "  Preparing metadata (setup.py) ... \u001b[?25l\u001b[?25hdone\n",
            "Requirement already satisfied: numpy in /usr/local/lib/python3.10/dist-packages (from idx2numpy) (1.23.5)\n",
            "Requirement already satisfied: six in /usr/local/lib/python3.10/dist-packages (from idx2numpy) (1.16.0)\n",
            "Building wheels for collected packages: idx2numpy\n",
            "  Building wheel for idx2numpy (setup.py) ... \u001b[?25l\u001b[?25hdone\n",
            "  Created wheel for idx2numpy: filename=idx2numpy-1.2.3-py3-none-any.whl size=7904 sha256=406afa5ea54f84ff995cc6a643fcb08ca56b04ceaca06ba1176213648e6ed36e\n",
            "  Stored in directory: /root/.cache/pip/wheels/e0/f4/e7/643fc5f932ec2ff92997f43f007660feb23f948aa8486f1107\n",
            "Successfully built idx2numpy\n",
            "Installing collected packages: idx2numpy\n",
            "Successfully installed idx2numpy-1.2.3\n"
          ]
        }
      ],
      "source": [
        "!pip install idx2numpy\n",
        "\n",
        "import numpy as np\n",
        "import pandas as pd\n",
        "import idx2numpy\n",
        "from sklearn.svm import SVC\n",
        "from sklearn.metrics import accuracy_score\n",
        "from sklearn.preprocessing import StandardScaler\n",
        "from sklearn.model_selection import train_test_split"
      ]
    },
    {
      "cell_type": "markdown",
      "source": [
        "**Reading Dataset**"
      ],
      "metadata": {
        "id": "vFXCvloRR4w9"
      }
    },
    {
      "cell_type": "code",
      "source": [
        "X_train = idx2numpy.convert_from_file('/content/train-images.idx3-ubyte')\n",
        "y_train = idx2numpy.convert_from_file('/content/train-labels.idx1-ubyte')\n",
        "\n",
        "X_test = idx2numpy.convert_from_file('/content/t10k-images.idx3-ubyte')\n",
        "y_test = idx2numpy.convert_from_file('/content/t10k-labels.idx1-ubyte')"
      ],
      "metadata": {
        "id": "IiD9kM_7Ear8"
      },
      "execution_count": 27,
      "outputs": []
    },
    {
      "cell_type": "code",
      "source": [
        "print(\"X_train Shape : \" + str(X_train.shape))\n",
        "print(\"Y_train Shape : \" + str(y_train.shape))\n",
        "\n",
        "print(\"X_test Shape : \" + str(X_test.shape))\n",
        "print(\"Y_test Shape : \" + str(y_test.shape))"
      ],
      "metadata": {
        "colab": {
          "base_uri": "https://localhost:8080/"
        },
        "id": "iJpqf6DiHvqv",
        "outputId": "2e339034-95da-4487-a44c-b43194d25f4b"
      },
      "execution_count": 28,
      "outputs": [
        {
          "output_type": "stream",
          "name": "stdout",
          "text": [
            "X_train Shape : (60000, 28, 28)\n",
            "Y_train Shape : (60000,)\n",
            "X_test Shape : (10000, 28, 28)\n",
            "Y_test Shape : (10000,)\n"
          ]
        }
      ]
    },
    {
      "cell_type": "markdown",
      "source": [
        "**Reshaping Data**"
      ],
      "metadata": {
        "id": "QrWTRyOHR9VE"
      }
    },
    {
      "cell_type": "code",
      "source": [
        "# reshaping data\n",
        "X_train = X_train.reshape(60000,-1)\n",
        "X_test = X_test.reshape(10000,-1)\n",
        "\n",
        "# it was taking too  long to train on full set\n",
        "X_train = X_train[:30000, :]\n",
        "y_train = y_train[:30000]\n",
        "\n",
        "print(\"X_train Shape : \" + str(X_train.shape))\n",
        "print(\"Y_train Shape : \" + str(y_train.shape))\n",
        "\n",
        "print(\"X_test Shape : \" + str(X_test.shape))\n",
        "print(\"Y_test Shape : \" + str(y_test.shape))"
      ],
      "metadata": {
        "colab": {
          "base_uri": "https://localhost:8080/"
        },
        "id": "N02S5QPmIIqe",
        "outputId": "9986801f-d361-4d84-afc8-2ccdea86cf3e"
      },
      "execution_count": 29,
      "outputs": [
        {
          "output_type": "stream",
          "name": "stdout",
          "text": [
            "X_train Shape : (30000, 784)\n",
            "Y_train Shape : (30000,)\n",
            "X_test Shape : (10000, 784)\n",
            "Y_test Shape : (10000,)\n"
          ]
        }
      ]
    },
    {
      "cell_type": "markdown",
      "source": [
        "**Linear SVM**"
      ],
      "metadata": {
        "id": "S1sUia5XSBc-"
      }
    },
    {
      "cell_type": "code",
      "source": [
        "linear_svm = SVC(kernel='linear', decision_function_shape='ovr')\n",
        "linear_svm.fit(X_train, y_train)\n",
        "\n",
        "print(\"Linear SVM's Accuracy on Training Set : \", linear_svm.score(X_train, y_train) * 100)"
      ],
      "metadata": {
        "id": "PBQyhf50L9kO",
        "colab": {
          "base_uri": "https://localhost:8080/"
        },
        "outputId": "137c3d99-5b03-42d5-8565-7055161d01d8"
      },
      "execution_count": 30,
      "outputs": [
        {
          "output_type": "stream",
          "name": "stdout",
          "text": [
            "Linear SVM's Accuracy on Training Set :  100.0\n"
          ]
        }
      ]
    },
    {
      "cell_type": "code",
      "source": [
        "# Predicting\n",
        "y_pred = linear_svm.predict(X_test)\n",
        "\n",
        "# Accuracy\n",
        "accuracy = accuracy_score(y_test,y_pred)\n",
        "print(\"Linear SVM's Accuracy on Test Set : \", accuracy * 100)\n"
      ],
      "metadata": {
        "id": "dVwhvzKNJQiP",
        "colab": {
          "base_uri": "https://localhost:8080/"
        },
        "outputId": "0158febe-8a44-44f1-b6b1-d8b9f5c4e01d"
      },
      "execution_count": 31,
      "outputs": [
        {
          "output_type": "stream",
          "name": "stdout",
          "text": [
            "Linear SVM's Accuracy on Test Set :  91.45\n"
          ]
        }
      ]
    },
    {
      "cell_type": "markdown",
      "source": [
        "**Standardizing Data**"
      ],
      "metadata": {
        "id": "R8BPO3G3SHW0"
      }
    },
    {
      "cell_type": "code",
      "source": [
        "# Standardization\n",
        "scaler = StandardScaler()\n",
        "\n",
        "scaler.fit(X_train)\n",
        "standardized_X_train = scaler.transform(X_train)\n",
        "\n",
        "scaler.fit(X_test)\n",
        "standardized_X_test = scaler.transform(X_test)"
      ],
      "metadata": {
        "id": "QQT3p5RRLbPL"
      },
      "execution_count": 32,
      "outputs": []
    },
    {
      "cell_type": "markdown",
      "source": [
        "**Linear SVM with Standardized Data**"
      ],
      "metadata": {
        "id": "qMxjy_ZzSNRX"
      }
    },
    {
      "cell_type": "code",
      "source": [
        "linear_svm_with_standard_data = SVC(kernel='linear', decision_function_shape='ovr')\n",
        "linear_svm_with_standard_data.fit(standardized_X_train, y_train)\n",
        "\n",
        "print(\"Linear SVM with Standardized Data Accuracy on Training Set : \", linear_svm_with_standard_data.score(standardized_X_train, y_train) * 100)"
      ],
      "metadata": {
        "id": "MFW4ud4ZM9A_",
        "colab": {
          "base_uri": "https://localhost:8080/"
        },
        "outputId": "2363a282-4533-4640-ee9c-e1d3129c41da"
      },
      "execution_count": 33,
      "outputs": [
        {
          "output_type": "stream",
          "name": "stdout",
          "text": [
            "Linear SVM with Standardized Data Accuracy on Training Set :  99.60666666666667\n"
          ]
        }
      ]
    },
    {
      "cell_type": "code",
      "source": [
        "# Predicting\n",
        "y_pred = linear_svm_with_standard_data.predict(standardized_X_test)\n",
        "\n",
        "# Accuracy\n",
        "accuracy = accuracy_score(y_test,y_pred)\n",
        "print(\"Linear SVM with Standardized Data Accuracy on Test Set : \", accuracy * 100)"
      ],
      "metadata": {
        "id": "bhr3rGJINGRX",
        "colab": {
          "base_uri": "https://localhost:8080/"
        },
        "outputId": "afe6d23a-8460-492c-db00-5c503d19767a"
      },
      "execution_count": 34,
      "outputs": [
        {
          "output_type": "stream",
          "name": "stdout",
          "text": [
            "Linear SVM with Standardized Data Accuracy on Test Set :  92.0\n"
          ]
        }
      ]
    },
    {
      "cell_type": "markdown",
      "source": [
        "**Non-Linear SVM with Standardized Data**"
      ],
      "metadata": {
        "id": "Sfrr7G2jSU-T"
      }
    },
    {
      "cell_type": "code",
      "source": [
        "non_linear_svm = SVC(kernel='rbf', decision_function_shape='ovr')\n",
        "non_linear_svm.fit(standardized_X_train, y_train)\n",
        "\n",
        "print(\"Non-Linear SVM with Standardized Data Accuracy on Training Set : \", non_linear_svm.score(standardized_X_train, y_train) * 100)"
      ],
      "metadata": {
        "id": "TSAyIXwqNNum",
        "colab": {
          "base_uri": "https://localhost:8080/"
        },
        "outputId": "3c9dfa4f-c4a4-42eb-a2be-3f2950c20531"
      },
      "execution_count": 35,
      "outputs": [
        {
          "output_type": "stream",
          "name": "stdout",
          "text": [
            "Non-Linear SVM with Standardized Data Accuracy on Training Set :  98.55000000000001\n"
          ]
        }
      ]
    },
    {
      "cell_type": "code",
      "source": [
        "# Predicting\n",
        "y_pred = non_linear_svm.predict(standardized_X_test)\n",
        "\n",
        "# Accuracy\n",
        "accuracy = accuracy_score(y_test,y_pred)\n",
        "print(\"Non-Linear SVM with Standardized Data Accuracy on Test Set : \", accuracy * 100)"
      ],
      "metadata": {
        "colab": {
          "base_uri": "https://localhost:8080/"
        },
        "id": "szd2O5i4Nbej",
        "outputId": "b44a0ef7-1843-44fa-9aac-6db9d6e66c90"
      },
      "execution_count": 36,
      "outputs": [
        {
          "output_type": "stream",
          "name": "stdout",
          "text": [
            "Non-Linear SVM with Standardized Data Accuracy on Test Set :  95.78999999999999\n"
          ]
        }
      ]
    }
  ]
}